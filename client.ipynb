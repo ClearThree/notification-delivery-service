{
 "cells": [
  {
   "cell_type": "code",
   "execution_count": null,
   "id": "8d95ffae",
   "metadata": {},
   "outputs": [],
   "source": [
    "import time\n",
    "\n",
    "from requests import get, post, delete"
   ]
  },
  {
   "cell_type": "code",
   "execution_count": null,
   "id": "8bae87df",
   "metadata": {},
   "outputs": [],
   "source": [
    "# This function applies load to the service. It constantly loads the service with a specified RPS.\n",
    "# It started from loader.py\n",
    "\n",
    "def apply_load(url, rps=1.0, body='\"\"\"\"\"\"\"\"\"\"\"\"\"\"\"\"\"lelelele\"\"\"\"\"\"\"\"\"\"\"\"\"@yandex.ru'):\n",
    "    try:\n",
    "        request_ts = time.monotonic()\n",
    "        while True:\n",
    "            resp = post(url, json={'body': body})\n",
    "            request_ts += (1.0/rps)\n",
    "            now = time.monotonic()\n",
    "            if now < request_ts:\n",
    "                time.sleep(request_ts - now)\n",
    "    except KeyboardInterrupt:\n",
    "        pass"
   ]
  },
  {
   "cell_type": "markdown",
   "id": "e2ebedc3",
   "metadata": {},
   "source": [
    "#### Add normal regular expression to the service"
   ]
  },
  {
   "cell_type": "code",
   "execution_count": null,
   "id": "ae95ffe5",
   "metadata": {},
   "outputs": [],
   "source": [
    "# Let's forbid email addresses in message.\n",
    "\n",
    "resp = post(\n",
    "    'http://localhost:4567/filters',\n",
    "    json = {'pattern': '^[a-zA-Z0-9_.+-]+@[a-zA-Z0-9-]+(?:\\.[a-zA-Z0-9-]+)+$'}\n",
    ")\n",
    "print(resp.status_code)\n",
    "print(resp.json())"
   ]
  },
  {
   "cell_type": "markdown",
   "id": "61503379",
   "metadata": {},
   "source": [
    "We see that everything is ok with rps=2."
   ]
  },
  {
   "cell_type": "markdown",
   "id": "2e5240bc",
   "metadata": {},
   "source": [
    "#### And let's add the incorrect filter, leading to ReDoS."
   ]
  },
  {
   "cell_type": "code",
   "execution_count": null,
   "id": "5df42433",
   "metadata": {},
   "outputs": [],
   "source": [
    "resp = post(\n",
    "    'http://localhost:4567/filters',\n",
    "    json = {'pattern': '(\"[^\"]*\"|[^@])*@([^@]*)/'}\n",
    ")\n",
    "print(resp.status_code)\n",
    "print(resp.json())"
   ]
  }
 ],
 "metadata": {
  "kernelspec": {
   "display_name": "Python 3",
   "language": "python",
   "name": "python3"
  },
  "language_info": {
   "codemirror_mode": {
    "name": "ipython",
    "version": 3
   },
   "file_extension": ".py",
   "mimetype": "text/x-python",
   "name": "python",
   "nbconvert_exporter": "python",
   "pygments_lexer": "ipython3",
   "version": "3.7.9"
  }
 },
 "nbformat": 4,
 "nbformat_minor": 5
}
